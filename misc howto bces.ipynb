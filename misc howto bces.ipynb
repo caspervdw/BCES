{
 "cells": [
  {
   "cell_type": "markdown",
   "metadata": {},
   "source": [
    "Examples of how to use the BCES fitting code\n",
    "==================="
   ]
  },
  {
   "cell_type": "code",
   "execution_count": 7,
   "metadata": {
    "collapsed": false
   },
   "outputs": [
    {
     "name": "stdout",
     "output_type": "stream",
     "text": [
      "Populating the interactive namespace from numpy and matplotlib\n"
     ]
    }
   ],
   "source": [
    "%pylab inline"
   ]
  },
  {
   "cell_type": "code",
   "execution_count": 4,
   "metadata": {
    "collapsed": false
   },
   "outputs": [
    {
     "name": "stdout",
     "output_type": "stream",
     "text": [
      "/Users/nemmen/Dropbox/work/software/python/bces\n"
     ]
    }
   ],
   "source": [
    "cd '/Users/nemmen/work/software/python/bces'"
   ]
  },
  {
   "cell_type": "code",
   "execution_count": 63,
   "metadata": {
    "collapsed": false,
    "scrolled": true
   },
   "outputs": [
    {
     "name": "stdout",
     "output_type": "stream",
     "text": [
      "\n"
     ]
    }
   ],
   "source": [
    "import bces"
   ]
  },
  {
   "cell_type": "markdown",
   "metadata": {},
   "source": [
    "# Example 1\n",
    "\n",
    "Data with errors in $x$ and $y$, no correlation between uncertainties"
   ]
  },
  {
   "cell_type": "markdown",
   "metadata": {},
   "source": [
    "Reads data (real data taken from this [paper](http://science.sciencemag.org/content/338/6113/1445.full])). The [datafile](https://github.com/rsnemmen/BCES/blob/master/data.npz) is available in the github repository"
   ]
  },
  {
   "cell_type": "code",
   "execution_count": 74,
   "metadata": {
    "collapsed": false
   },
   "outputs": [],
   "source": [
    "data=load('data.npz')\n",
    "xdata=data['x']\n",
    "ydata=data['y']\n",
    "errx=data['errx']\n",
    "erry=data['erry']\n",
    "cov=data['cov']"
   ]
  },
  {
   "cell_type": "markdown",
   "metadata": {},
   "source": [
    "Fitting, results such that $y = Ax + B$. *covab* is the resulting covariance matrix which can be used to draw confidence regions.\n",
    "\n",
    "You need to select the desired BCES method for plotting by setting the variable $i$ below. The possible values are 0:$y|x$, 1:$x|y$, 3:ort. \n",
    "*DO NOT USE THE BISSECTOR METHOD*. \n",
    "Please read the [original BCES paper](http://labs.adsabs.harvard.edu/adsabs/abs/1996ApJ...470..706A/) to understand what they mean."
   ]
  },
  {
   "cell_type": "code",
   "execution_count": 75,
   "metadata": {
    "collapsed": true
   },
   "outputs": [],
   "source": [
    "# Selects the desired BCES method for plotting\n",
    "i=3 \n",
    "\n",
    "# number of bootstrapping trials\n",
    "nboot=10000"
   ]
  },
  {
   "cell_type": "code",
   "execution_count": 76,
   "metadata": {
    "collapsed": false
   },
   "outputs": [
    {
     "name": "stdout",
     "output_type": "stream",
     "text": [
      "BCES, 10000 trials...  4.385746 s\n",
      "CPU times: user 16.2 ms, sys: 18.8 ms, total: 35 ms\n",
      "Wall time: 4.39 s\n"
     ]
    }
   ],
   "source": [
    "%%time\n",
    "# Performs the BCES fit (parallel)\n",
    "a,b,erra,errb,covab=bces.bcesp(xdata,errx,ydata,erry,cov,nboot)"
   ]
  },
  {
   "cell_type": "markdown",
   "metadata": {},
   "source": [
    "Plot"
   ]
  },
  {
   "cell_type": "code",
   "execution_count": 77,
   "metadata": {
    "collapsed": false,
    "scrolled": true
   },
   "outputs": [
    {
     "data": {
      "text/plain": [
       "<matplotlib.text.Text at 0x10b156110>"
      ]
     },
     "execution_count": 77,
     "metadata": {},
     "output_type": "execute_result"
    },
    {
     "data": {
      "image/png": "[encoded data removed]",
      "text/plain": [
       "<matplotlib.figure.Figure at 0x10b13b550>"
      ]
     },
     "metadata": {},
     "output_type": "display_data"
    }
   ],
   "source": [
    "errorbar(xdata,ydata,xerr=errx,yerr=erry,fmt='o')\n",
    "x=numpy.linspace(xdata.min(),xdata.max())\n",
    "plot(x,a[i]*x+b[i],'-k',label=\"BCES orthogonal\")\n",
    "legend(loc='best')\n",
    "xlabel('$x$')\n",
    "ylabel('$y$')"
   ]
  },
  {
   "cell_type": "markdown",
   "metadata": {},
   "source": [
    "# Example 2\n",
    "\n",
    "Fake data with random uncertainties in $x$ and $y$. Example prepared by Rogerio Riffel."
   ]
  },
  {
   "cell_type": "markdown",
   "metadata": {},
   "source": [
    "Prepares fake data"
   ]
  },
  {
   "cell_type": "code",
   "execution_count": 68,
   "metadata": {
    "collapsed": true
   },
   "outputs": [],
   "source": [
    "x=np.arange(1,20)\n",
    "y=3*x + 4\n",
    "\n",
    "xer=np.sqrt((x- np.random.normal(x))**2)\n",
    "yer=np.sqrt((y- np.random.normal(y))**2)\n",
    "\n",
    "# reescrevendo x e y para serem random\n",
    "y=numpy.random.normal(y)\n",
    "x=numpy.random.normal(x)"
   ]
  },
  {
   "cell_type": "code",
   "execution_count": 69,
   "metadata": {
    "collapsed": false,
    "scrolled": true
   },
   "outputs": [
    {
     "name": "stdout",
     "output_type": "stream",
     "text": [
      "BCES, 10000 trials...  3.170642 s\n"
     ]
    }
   ],
   "source": [
    "# simple linear regression\n",
    "(aa,bb)=numpy.polyfit(x,y,deg=1)\n",
    "yfit=x*aa+bb\n",
    "\n",
    "# BCES fit\n",
    "cov=zeros(len(x))   # no correlation between error measurements\n",
    "nboot=10000   # number of bootstrapping trials\n",
    "a,b,aerr,berr,covab=bces.bcesp(x,xer,y,yer,cov,nboot)\n",
    "ybces=a[0]*x+b[0]  # the integer corresponds to the desired BCES method for plotting (3-ort, 0-y|x, 1-x|y, *don't use bissector*)"
   ]
  },
  {
   "cell_type": "markdown",
   "metadata": {},
   "source": [
    "Plot"
   ]
  },
  {
   "cell_type": "code",
   "execution_count": 72,
   "metadata": {
    "collapsed": false
   },
   "outputs": [
    {
     "data": {
      "text/plain": [
       "<matplotlib.text.Text at 0x10a611c50>"
      ]
     },
     "execution_count": 72,
     "metadata": {},
     "output_type": "execute_result"
    },
    {
     "data": {
      "image/png": "[encoded data removed]",
      "text/plain": [
       "<matplotlib.figure.Figure at 0x10aa35b50>"
      ]
     },
     "metadata": {},
     "output_type": "display_data"
    }
   ],
   "source": [
    "plot(x,y,'o')\n",
    "errorbar(x,y,xer,yer,ls='None')\n",
    "plot(x,yfit,label='Simple regression, a={:.2F}'.format(aa)+'b={:.2F}'.format(bb))\n",
    "plot(x,ybces,label='BCES $y|x$')\n",
    "legend(loc='best')\n",
    "xlabel('$x$')\n",
    "ylabel('$y$')"
   ]
  },
  {
   "cell_type": "markdown",
   "metadata": {},
   "source": [
    "# TODO\n",
    "\n",
    "* include example showing use of confidence contours in fit (\"bowtie\" plot)"
   ]
  },
  {
   "cell_type": "code",
   "execution_count": null,
   "metadata": {
    "collapsed": true
   },
   "outputs": [],
   "source": []
  }
 ],
 "metadata": {
  "kernelspec": {
   "display_name": "Python 2",
   "language": "python",
   "name": "python2"
  },
  "language_info": {
   "codemirror_mode": {
    "name": "ipython",
    "version": 2
   },
   "file_extension": ".py",
   "mimetype": "text/x-python",
   "name": "python",
   "nbconvert_exporter": "python",
   "pygments_lexer": "ipython2",
   "version": "2.7.11"
  }
 },
 "nbformat": 4,
 "nbformat_minor": 0
}
